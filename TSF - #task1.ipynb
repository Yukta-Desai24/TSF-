{
 "cells": [
  {
   "cell_type": "markdown",
   "id": "0572103a",
   "metadata": {},
   "source": [
    "# GRIP : The Spark Foundation"
   ]
  },
  {
   "cell_type": "markdown",
   "id": "cef98e39",
   "metadata": {},
   "source": [
    "# Data Science & Business Analytics Internship"
   ]
  },
  {
   "cell_type": "markdown",
   "id": "e49d2abf",
   "metadata": {},
   "source": [
    "# _Task#1 : Prediction using Supervised ML_"
   ]
  },
  {
   "cell_type": "markdown",
   "id": "1e6f4cd3",
   "metadata": {},
   "source": [
    "# Author : Yukta Desai\n",
    "\n",
    "# Batch : Feb,2022"
   ]
  },
  {
   "cell_type": "code",
   "execution_count": null,
   "id": "2d8c0094",
   "metadata": {},
   "outputs": [],
   "source": []
  },
  {
   "cell_type": "markdown",
   "id": "9e64e010",
   "metadata": {},
   "source": [
    "**Objective :-** \n",
    "\n",
    "In this regression task we will predict the percentage of marks that a student is expected to score based upon the number of hours they studied. \n",
    "\n",
    "This is a simple linear regression task as it involves just two variables.\n",
    "\n",
    "_**Predict the score of student who studies for 9.25 hours per day.**_"
   ]
  },
  {
   "cell_type": "code",
   "execution_count": null,
   "id": "3d92a0eb",
   "metadata": {},
   "outputs": [],
   "source": []
  },
  {
   "cell_type": "markdown",
   "id": "579020d4",
   "metadata": {},
   "source": [
    "_**Importing required libraries**_"
   ]
  },
  {
   "cell_type": "code",
   "execution_count": 1,
   "id": "63691810",
   "metadata": {},
   "outputs": [],
   "source": [
    "import pandas as pd\n",
    "import numpy as np  \n",
    "import matplotlib.pyplot as plt  \n",
    "%matplotlib inline"
   ]
  },
  {
   "cell_type": "code",
   "execution_count": null,
   "id": "cefb9503",
   "metadata": {},
   "outputs": [],
   "source": []
  },
  {
   "cell_type": "markdown",
   "id": "c515aaf8",
   "metadata": {},
   "source": [
    "_**Reading the Scores_data from remote link**_"
   ]
  },
  {
   "cell_type": "code",
   "execution_count": 2,
   "id": "e5f8a71c",
   "metadata": {},
   "outputs": [
    {
     "name": "stdout",
     "output_type": "stream",
     "text": [
      "Data imported successfully\n"
     ]
    },
    {
     "data": {
      "text/html": [
       "<div>\n",
       "<style scoped>\n",
       "    .dataframe tbody tr th:only-of-type {\n",
       "        vertical-align: middle;\n",
       "    }\n",
       "\n",
       "    .dataframe tbody tr th {\n",
       "        vertical-align: top;\n",
       "    }\n",
       "\n",
       "    .dataframe thead th {\n",
       "        text-align: right;\n",
       "    }\n",
       "</style>\n",
       "<table border=\"1\" class=\"dataframe\">\n",
       "  <thead>\n",
       "    <tr style=\"text-align: right;\">\n",
       "      <th></th>\n",
       "      <th>Hours</th>\n",
       "      <th>Scores</th>\n",
       "    </tr>\n",
       "  </thead>\n",
       "  <tbody>\n",
       "    <tr>\n",
       "      <th>0</th>\n",
       "      <td>2.5</td>\n",
       "      <td>21</td>\n",
       "    </tr>\n",
       "    <tr>\n",
       "      <th>1</th>\n",
       "      <td>5.1</td>\n",
       "      <td>47</td>\n",
       "    </tr>\n",
       "    <tr>\n",
       "      <th>2</th>\n",
       "      <td>3.2</td>\n",
       "      <td>27</td>\n",
       "    </tr>\n",
       "    <tr>\n",
       "      <th>3</th>\n",
       "      <td>8.5</td>\n",
       "      <td>75</td>\n",
       "    </tr>\n",
       "    <tr>\n",
       "      <th>4</th>\n",
       "      <td>3.5</td>\n",
       "      <td>30</td>\n",
       "    </tr>\n",
       "  </tbody>\n",
       "</table>\n",
       "</div>"
      ],
      "text/plain": [
       "   Hours  Scores\n",
       "0    2.5      21\n",
       "1    5.1      47\n",
       "2    3.2      27\n",
       "3    8.5      75\n",
       "4    3.5      30"
      ]
     },
     "execution_count": 2,
     "metadata": {},
     "output_type": "execute_result"
    }
   ],
   "source": [
    "s_data = pd.read_csv(\"http://bit.ly/w-data\")\n",
    "\n",
    "print(\"Data imported successfully\")\n",
    "\n",
    "s_data.head()    # gives 1st 5 rows of the data"
   ]
  },
  {
   "cell_type": "code",
   "execution_count": null,
   "id": "32975dc7",
   "metadata": {},
   "outputs": [],
   "source": []
  },
  {
   "cell_type": "markdown",
   "id": "ee6c7556",
   "metadata": {},
   "source": [
    "_**Plotting the data set**_"
   ]
  },
  {
   "cell_type": "code",
   "execution_count": 3,
   "id": "44cbe263",
   "metadata": {},
   "outputs": [
    {
     "data": {
      "image/png": "[encoded data removed]",
      "text/plain": [
       "<Figure size 432x288 with 1 Axes>"
      ]
     },
     "metadata": {
      "needs_background": "light"
     },
     "output_type": "display_data"
    }
   ],
   "source": [
    "s_data.plot(x='Hours', y='Scores', style='o', color='purple')\n",
    "plt.title('Hours vs Percentage')  \n",
    "plt.xlabel('Hours Studied')  \n",
    "plt.ylabel('Percentage Score')  \n",
    "plt.show() "
   ]
  },
  {
   "cell_type": "markdown",
   "id": "a566184d",
   "metadata": {},
   "source": [
    "**This shows that the marks obtain by a student is positively correlated to numbers of hours spend for studying**"
   ]
  },
  {
   "cell_type": "code",
   "execution_count": null,
   "id": "9d5af933",
   "metadata": {},
   "outputs": [],
   "source": []
  },
  {
   "cell_type": "markdown",
   "id": "df82f80d",
   "metadata": {},
   "source": [
    "_**Fitting the model**_"
   ]
  },
  {
   "cell_type": "code",
   "execution_count": 4,
   "id": "0b8b81b5",
   "metadata": {},
   "outputs": [],
   "source": [
    "from sklearn.linear_model import LinearRegression"
   ]
  },
  {
   "cell_type": "code",
   "execution_count": 5,
   "id": "967aabd6",
   "metadata": {},
   "outputs": [],
   "source": [
    "model = LinearRegression(fit_intercept=True)"
   ]
  },
  {
   "cell_type": "code",
   "execution_count": 6,
   "id": "f5319547",
   "metadata": {},
   "outputs": [
    {
     "data": {
      "text/plain": [
       "LinearRegression()"
      ]
     },
     "execution_count": 6,
     "metadata": {},
     "output_type": "execute_result"
    }
   ],
   "source": [
    "x = s_data[[\"Hours\"]]\n",
    "y = s_data[\"Scores\"]\n",
    "\n",
    "model.fit(x, y)"
   ]
  },
  {
   "cell_type": "code",
   "execution_count": 7,
   "id": "7b5eeeae",
   "metadata": {},
   "outputs": [],
   "source": [
    "from pandas import DataFrame\n",
    "\n",
    "x_fit = DataFrame(x)\n",
    "y_pred = model.predict(x_fit)"
   ]
  },
  {
   "cell_type": "code",
   "execution_count": 8,
   "id": "2acf6309",
   "metadata": {},
   "outputs": [
    {
     "data": {
      "text/plain": [
       "[<matplotlib.lines.Line2D at 0x19abc8a1a30>]"
      ]
     },
     "execution_count": 8,
     "metadata": {},
     "output_type": "execute_result"
    },
    {
     "data": {
      "image/png": "[encoded data removed]",
      "text/plain": [
       "<Figure size 432x288 with 1 Axes>"
      ]
     },
     "metadata": {
      "needs_background": "light"
     },
     "output_type": "display_data"
    }
   ],
   "source": [
    "# Plotting the regression line\n",
    "\n",
    "ax = s_data.plot.scatter(\"Hours\", \"Scores\", linestyle=\":\", color='purple')\n",
    "ax.plot(x_fit, y_pred, linestyle=\"-\", color='c')"
   ]
  },
  {
   "cell_type": "code",
   "execution_count": null,
   "id": "48597d39",
   "metadata": {},
   "outputs": [],
   "source": []
  },
  {
   "cell_type": "markdown",
   "id": "84d5bf98",
   "metadata": {},
   "source": [
    "_**Training the data set**_"
   ]
  },
  {
   "cell_type": "markdown",
   "id": "f0f95d1b",
   "metadata": {},
   "source": [
    "**To compare the Actual marks VS Predicted marks**"
   ]
  },
  {
   "cell_type": "code",
   "execution_count": 9,
   "id": "1198f273",
   "metadata": {},
   "outputs": [],
   "source": [
    "x = s_data[[\"Hours\"]]\n",
    "y = s_data[\"Scores\"]"
   ]
  },
  {
   "cell_type": "code",
   "execution_count": 10,
   "id": "337c5a35",
   "metadata": {},
   "outputs": [],
   "source": [
    "from sklearn.model_selection import train_test_split  \n",
    "X_train, X_test, y_train, y_test = train_test_split(x, y, test_size=0.2, random_state=0) "
   ]
  },
  {
   "cell_type": "code",
   "execution_count": 11,
   "id": "7ba38b23",
   "metadata": {},
   "outputs": [
    {
     "name": "stdout",
     "output_type": "stream",
     "text": [
      "    Hours\n",
      "5     1.5\n",
      "2     3.2\n",
      "19    7.4\n",
      "16    2.5\n",
      "11    5.9\n"
     ]
    }
   ],
   "source": [
    "print(X_test) # Testing data - In Hours\n",
    "y_pred = model.predict(X_test) # Predicting the scores"
   ]
  },
  {
   "cell_type": "code",
   "execution_count": 12,
   "id": "ee5d0b3c",
   "metadata": {},
   "outputs": [
    {
     "data": {
      "text/html": [
       "<div>\n",
       "<style scoped>\n",
       "    .dataframe tbody tr th:only-of-type {\n",
       "        vertical-align: middle;\n",
       "    }\n",
       "\n",
       "    .dataframe tbody tr th {\n",
       "        vertical-align: top;\n",
       "    }\n",
       "\n",
       "    .dataframe thead th {\n",
       "        text-align: right;\n",
       "    }\n",
       "</style>\n",
       "<table border=\"1\" class=\"dataframe\">\n",
       "  <thead>\n",
       "    <tr style=\"text-align: right;\">\n",
       "      <th></th>\n",
       "      <th>Actual</th>\n",
       "      <th>Predicted</th>\n",
       "    </tr>\n",
       "  </thead>\n",
       "  <tbody>\n",
       "    <tr>\n",
       "      <th>5</th>\n",
       "      <td>20</td>\n",
       "      <td>17.147378</td>\n",
       "    </tr>\n",
       "    <tr>\n",
       "      <th>2</th>\n",
       "      <td>27</td>\n",
       "      <td>33.766244</td>\n",
       "    </tr>\n",
       "    <tr>\n",
       "      <th>19</th>\n",
       "      <td>69</td>\n",
       "      <td>74.824618</td>\n",
       "    </tr>\n",
       "    <tr>\n",
       "      <th>16</th>\n",
       "      <td>30</td>\n",
       "      <td>26.923182</td>\n",
       "    </tr>\n",
       "    <tr>\n",
       "      <th>11</th>\n",
       "      <td>62</td>\n",
       "      <td>60.160913</td>\n",
       "    </tr>\n",
       "  </tbody>\n",
       "</table>\n",
       "</div>"
      ],
      "text/plain": [
       "    Actual  Predicted\n",
       "5       20  17.147378\n",
       "2       27  33.766244\n",
       "19      69  74.824618\n",
       "16      30  26.923182\n",
       "11      62  60.160913"
      ]
     },
     "execution_count": 12,
     "metadata": {},
     "output_type": "execute_result"
    }
   ],
   "source": [
    "# Comparing Actual vs Predicted\n",
    "\n",
    "df = pd.DataFrame({'Actual': y_test, 'Predicted': y_pred})  \n",
    "df "
   ]
  },
  {
   "cell_type": "code",
   "execution_count": 13,
   "id": "e275da29",
   "metadata": {},
   "outputs": [
    {
     "data": {
      "text/plain": [
       "Text(0, 0.5, 'Marks')"
      ]
     },
     "execution_count": 13,
     "metadata": {},
     "output_type": "execute_result"
    },
    {
     "data": {
      "image/png": "[encoded data removed]",
      "text/plain": [
       "<Figure size 432x288 with 1 Axes>"
      ]
     },
     "metadata": {
      "needs_background": "light"
     },
     "output_type": "display_data"
    }
   ],
   "source": [
    "# Barplot for comparison of marks\n",
    "\n",
    "df.plot(kind='bar', color={\"Actual\":\"green\", \"Predicted\":\"skyblue\"})\n",
    "plt.title('Actual marks VS Predicted marks')\n",
    "plt.xlabel('Hours Studied')  \n",
    "plt.ylabel('Marks')"
   ]
  },
  {
   "cell_type": "code",
   "execution_count": null,
   "id": "1c02a3bc",
   "metadata": {},
   "outputs": [],
   "source": []
  },
  {
   "cell_type": "markdown",
   "id": "7f8db7ee",
   "metadata": {},
   "source": [
    "_**Mean Absolute Error**_"
   ]
  },
  {
   "cell_type": "code",
   "execution_count": 14,
   "id": "ffe551a7",
   "metadata": {},
   "outputs": [
    {
     "name": "stdout",
     "output_type": "stream",
     "text": [
      "Mean absolute error is 4.071877793635605\n"
     ]
    }
   ],
   "source": [
    "from sklearn.metrics import mean_absolute_error\n",
    "\n",
    "a =  mean_absolute_error(y_test, y_pred)\n",
    "print(\"Mean absolute error is\", a)"
   ]
  },
  {
   "cell_type": "code",
   "execution_count": null,
   "id": "9b6e5180",
   "metadata": {},
   "outputs": [],
   "source": []
  },
  {
   "cell_type": "markdown",
   "id": "4878893f",
   "metadata": {},
   "source": [
    "_**Predicted value when x = 9.25 hours**_"
   ]
  },
  {
   "cell_type": "code",
   "execution_count": 15,
   "id": "e2f1e41a",
   "metadata": {},
   "outputs": [],
   "source": [
    "x_fit = DataFrame([9.25])\n",
    "y_pred = model.predict(x_fit)"
   ]
  },
  {
   "cell_type": "code",
   "execution_count": 16,
   "id": "ceea5917",
   "metadata": {},
   "outputs": [
    {
     "name": "stdout",
     "output_type": "stream",
     "text": [
      "Predicted score is  [92.90985477]\n"
     ]
    }
   ],
   "source": [
    "print(\"Predicted score is \", y_pred)"
   ]
  },
  {
   "cell_type": "markdown",
   "id": "59e3102d",
   "metadata": {},
   "source": [
    "**Predicted score of a student who studies for 9.25 hours is 92.90**"
   ]
  },
  {
   "cell_type": "code",
   "execution_count": null,
   "id": "11795b64",
   "metadata": {},
   "outputs": [],
   "source": []
  },
  {
   "cell_type": "markdown",
   "id": "2bd5412e",
   "metadata": {},
   "source": [
    "# Thank you!"
   ]
  },
  {
   "cell_type": "code",
   "execution_count": null,
   "id": "a26e6fab",
   "metadata": {},
   "outputs": [],
   "source": []
  }
 ],
 "metadata": {
  "kernelspec": {
   "display_name": "Python 3",
   "language": "python",
   "name": "python3"
  },
  "language_info": {
   "codemirror_mode": {
    "name": "ipython",
    "version": 3
   },
   "file_extension": ".py",
   "mimetype": "text/x-python",
   "name": "python",
   "nbconvert_exporter": "python",
   "pygments_lexer": "ipython3",
   "version": "3.8.8"
  }
 },
 "nbformat": 4,
 "nbformat_minor": 5
}
